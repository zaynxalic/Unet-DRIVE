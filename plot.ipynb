{
 "cells": [
  {
   "cell_type": "code",
   "execution_count": 7,
   "metadata": {},
   "outputs": [
    {
     "name": "stdout",
     "output_type": "stream",
     "text": [
      "1\n",
      "Maximum IoU is 1.0, maximum IoU0 is 0.0,  maximum IoU1 is 100.0, ACC is 12.7,\n"
     ]
    },
    {
     "data": {
      "text/plain": [
       "<AxesSubplot:>"
      ]
     },
     "execution_count": 7,
     "metadata": {},
     "output_type": "execute_result"
    },
    {
     "data": {
      "image/png": "[encoded data removed]",
      "text/plain": [
       "<Figure size 432x288 with 1 Axes>"
      ]
     },
     "metadata": {
      "needs_background": "light"
     },
     "output_type": "display_data"
    }
   ],
   "source": [
    "import numpy as np\n",
    "import re\n",
    "import matplotlib.pyplot as plt\n",
    "import seaborn as sns\n",
    "\n",
    "\"\"\"\n",
    "    Read the output result and generate the list of \n",
    "    1) epochs\n",
    "    2) training_losses \n",
    "    3) learning_rates\n",
    "    4) global corrects\n",
    "\"\"\"\n",
    "\n",
    "result = open('1101205834_unetpp.txt' ,'r')\n",
    "line = result.readline()\n",
    "epochs = []\n",
    "training_losses = []\n",
    "learning_rates = []\n",
    "global_corrects = []\n",
    "\n",
    "IoUs = []\n",
    "IoU0s = []\n",
    "IoU1s = []\n",
    "mean_IoUs = []\n",
    "\n",
    "epoch = float(re.findall(r\"[-+]?(?:\\d*\\.\\d+|\\d+)\", line)[0])\n",
    "epochs.append(epoch)\n",
    "\n",
    "line = result.readline()\n",
    "training_loss = float(re.findall(r\"[-+]?(?:\\d*\\.\\d+|\\d+)\", line)[0])\n",
    "training_losses.append(training_loss)\n",
    "\n",
    "line = result.readline()\n",
    "learning_rate = float(re.findall(r\"[-+]?(?:\\d*\\.\\d+|\\d+)\", line)[0])\n",
    "learning_rates.append(learning_rate)\n",
    "\n",
    "line = result.readline()\n",
    "line = result.readline()\n",
    "global_correct = float(re.findall(r\"[-+]?(?:\\d*\\.\\d+|\\d+)\", line)[0])\n",
    "global_corrects.append(global_correct)\n",
    "\n",
    "\n",
    "line = result.readline()\n",
    "IoU = eval(re.findall(r\"\\[.+,.+\\]\", line)[0])\n",
    "IoU0 = float(IoU[0])\n",
    "IoU1 = float(IoU[1])\n",
    "IoU0s.append(IoU0)\n",
    "IoU1s.append(IoU1)\n",
    "\n",
    "line = result.readline()\n",
    "mean_IoU =float(re.findall(r\"[-+]?(?:\\d*\\.\\d+|\\d+)\", line)[0])\n",
    "mean_IoUs.append(mean_IoU)\n",
    "\n",
    "while line:\n",
    "    line = result.readline()\n",
    "    if 'epoch' in line:\n",
    "        epoch = float(re.findall(r\"[-+]?(?:\\d*\\.\\d+|\\d+)\", line)[0])\n",
    "        epochs.append(epoch)\n",
    "\n",
    "        line = result.readline()\n",
    "        training_loss = float(re.findall(r\"[-+]?(?:\\d*\\.\\d+|\\d+)\", line)[0])\n",
    "        training_losses.append(training_loss)\n",
    "\n",
    "        line = result.readline()\n",
    "        learning_rate = float(re.findall(r\"[-+]?(?:\\d*\\.\\d+|\\d+)\", line)[0])\n",
    "        learning_rates.append(learning_rate)\n",
    "\n",
    "        line = result.readline()\n",
    "        line = result.readline()\n",
    "        global_correct = float(re.findall(r\"[-+]?(?:\\d*\\.\\d+|\\d+)\", line)[0])\n",
    "        global_corrects.append(global_correct)\n",
    "\n",
    "\n",
    "        line = result.readline()\n",
    "        IoU = eval(re.findall(r\"\\[.+,.+\\]\", line)[0])\n",
    "        IoU0 = float(IoU[0])\n",
    "        IoU1 = float(IoU[1])\n",
    "        IoU0s.append(IoU0)\n",
    "        IoU1s.append(IoU1)\n",
    "\n",
    "        line = result.readline()\n",
    "        line = result.readline()\n",
    "        mean_IoU =float(re.findall(r\"[-+]?(?:\\d*\\.\\d+|\\d+)\", line)[0])\n",
    "        mean_IoUs.append(mean_IoU)\n",
    "\n",
    "plot = {}\n",
    "plot['training loss'] = training_losses\n",
    "global_corrects = [float(i) for i in global_corrects]\n",
    "plot['global corrects'] = np.asarray(global_corrects)/100\n",
    "# plot['IoU0s'] = np.asarray(IoU0s)/100\n",
    "# plot['IoU1s'] = np.asarray(IoU1s)/100\n",
    "plot['mean iou'] = np.asarray(mean_IoUs)/100\n",
    "max_arg = np.argmax(mean_IoUs)\n",
    "print(max_arg)\n",
    "print(f\"Maximum IoU is {mean_IoUs[max_arg]}, maximum IoU0 is {IoU0s[max_arg]},  maximum IoU1 is {IoU1s[max_arg]}, ACC is {global_corrects[max_arg]},\")\n",
    "\n",
    "sns.lineplot(data=plot)\n",
    "\n",
    "# print(epochs)\n",
    "# print(training_losses)\n",
    "# print(global_corrects)\n",
    "# print(IoU0s)\n",
    "# print(IoU1s)\n",
    "# print(mean_IoUs)\n"
   ]
  },
  {
   "cell_type": "markdown",
   "metadata": {},
   "source": []
  },
  {
   "cell_type": "code",
   "execution_count": 5,
   "metadata": {},
   "outputs": [
    {
     "name": "stdout",
     "output_type": "stream",
     "text": [
      "Maximum IoU is 1.0, maximum IoU0 is 0.0,  maximum IoU1 is 100.0, ACCis 12.7,\n"
     ]
    }
   ],
   "source": []
  },
  {
   "cell_type": "code",
   "execution_count": null,
   "metadata": {},
   "outputs": [],
   "source": []
  }
 ],
 "metadata": {
  "kernelspec": {
   "display_name": "Python 3.7.13 ('ning')",
   "language": "python",
   "name": "python3"
  },
  "language_info": {
   "codemirror_mode": {
    "name": "ipython",
    "version": 3
   },
   "file_extension": ".py",
   "mimetype": "text/x-python",
   "name": "python",
   "nbconvert_exporter": "python",
   "pygments_lexer": "ipython3",
   "version": "3.7.13"
  },
  "orig_nbformat": 4,
  "vscode": {
   "interpreter": {
    "hash": "4b92d3163d121113eac0439a0fc463f354ba3562260d6f781fe1d37473b69970"
   }
  }
 },
 "nbformat": 4,
 "nbformat_minor": 2
}
